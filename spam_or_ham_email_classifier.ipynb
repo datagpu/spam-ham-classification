{
  "metadata": {
    "kernelspec": {
      "language": "python",
      "display_name": "Python 3",
      "name": "python3"
    },
    "language_info": {
      "name": "python",
      "version": "3.7.9",
      "mimetype": "text/x-python",
      "codemirror_mode": {
        "name": "ipython",
        "version": 3
      },
      "pygments_lexer": "ipython3",
      "nbconvert_exporter": "python",
      "file_extension": ".py"
    },
    "colab": {
      "provenance": [],
      "include_colab_link": true
    }
  },
  "nbformat_minor": 0,
  "nbformat": 4,
  "cells": [
    {
      "cell_type": "markdown",
      "metadata": {
        "id": "view-in-github",
        "colab_type": "text"
      },
      "source": [
        "<a href=\"https://colab.research.google.com/github/datagpu/spam-ham-classification/blob/main/spam_or_ham_email_classifier.ipynb\" target=\"_parent\"><img src=\"https://colab.research.google.com/assets/colab-badge.svg\" alt=\"Open In Colab\"/></a>"
      ]
    },
    {
      "cell_type": "code",
      "source": [
        "# This Python 3 environment comes with many helpful analytics libraries installed\n",
        "# For example, here's several helpful packages to load\n",
        "\n",
        "import numpy as np # linear algebra\n",
        "import pandas as pd # data processing, CSV file I/O (e.g. pd.read_csv)\n",
        "\n",
        "# Input data files are available in the read-only \"../input/\" directory\n",
        "# For example, running this (by clicking run or pressing Shift+Enter) will list all files under the input directory\n",
        "from google.colab import drive\n",
        "drive.mount('/content/drive/')\n",
        "\n",
        "#import os\n",
        "#for dirname, _, filenames in os.walk('/content/drive/MyDrive'):\n",
        "#    for filename in filenames:\n",
        "#        print(os.path.join(dirname, filename))\n"
      ],
      "metadata": {
        "_uuid": "8f2839f25d086af736a60e9eeb907d3b93b6e0e5",
        "_cell_guid": "b1076dfc-b9ad-4769-8c92-a6c4dae69d19",
        "_kg_hide-output": true,
        "_kg_hide-input": true,
        "execution": {
          "iopub.status.busy": "2021-07-05T06:55:45.986090Z",
          "iopub.execute_input": "2021-07-05T06:55:45.986512Z",
          "iopub.status.idle": "2021-07-05T06:55:46.000966Z",
          "shell.execute_reply.started": "2021-07-05T06:55:45.986433Z",
          "shell.execute_reply": "2021-07-05T06:55:45.999868Z"
        },
        "trusted": true,
        "colab": {
          "base_uri": "https://localhost:8080/"
        },
        "id": "0dZZRSu1Uv90",
        "outputId": "6358a412-15fe-4a1b-8b01-f6fba8ec6cb6"
      },
      "execution_count": null,
      "outputs": [
        {
          "output_type": "stream",
          "name": "stdout",
          "text": [
            "Mounted at /content/drive/\n"
          ]
        }
      ]
    },
    {
      "cell_type": "code",
      "source": [
        "#from google.colab import drive\n",
        "#drive.mount('/content/drive')"
      ],
      "metadata": {
        "id": "CBXkMcpz7sEi"
      },
      "execution_count": null,
      "outputs": []
    },
    {
      "cell_type": "markdown",
      "source": [
        "# <p style=\"background-color:#E598D8;font-family:newtimeroman;color:#E1F16B;font-size:150%;text-align:center;border-radius:20px 60px;\">SPAM OR HAM</p>\n",
        "\n",
        "   <a id='top'></a>\n",
        "<div class=\"list-group\" id=\"list-tab\" role=\"tablist\">\n",
        "<p style=\"background-color:#E598D8;font-family:newtimeroman;color:#E1F16B;font-size:150%;text-align:center;border-radius:20px 60px;\">TABLE OF CONTENTS</p>   \n",
        "    \n",
        "* [1. IMPORTING LIBRARIES](#1)\n",
        "    \n",
        "* [2. LOADING DATA](#2)\n",
        "    \n",
        "* [3. DATA EXPLORATION](#3)\n",
        "    * [3.1 FEATURE ENGINEERING](#3.1)\n",
        "    * [3.2 OUTLIER DETECTION](#3.2)\n",
        "    \n",
        "    \n",
        "* [4. DATA PREPREPROCESSING](#4)\n",
        "    \n",
        "    * [4.1 CLEANING TEXT](#4.1)\n",
        "    * [4.2 TOKENIZATION](#4.2)\n",
        "    * [4.3 REMOVING STOPWORDS](#4.3)\n",
        "    * [4.4 LEMMATIZATION](#4.4) \n",
        "    \n",
        "    \n",
        "* [5. VECTORIZATION](#5) \n",
        "      \n",
        "* [6. MODEL BUILDING](#6)\n",
        "    \n",
        "* [7. EVALUATING MODELS](#7)\n",
        "    \n",
        "* [8. END](#8)\n",
        "\n",
        "<p style=\"background-color:#E1F16B;font-family:newtimeroman;color:#E598D8;font-size:150%;text-align:center;border-radius:20px 60px;\">START</p>"
      ],
      "metadata": {
        "id": "pWxjv3wQUv92"
      }
    },
    {
      "cell_type": "markdown",
      "source": [
        " <a id=\"1\"></a>\n",
        "# <p style=\"background-color:#E598D8;font-family:newtimeroman;color:#E1F16B;font-size:150%;text-align:center;border-radius:20px 60px;\">IMPORTING LIBRARIES</p>"
      ],
      "metadata": {
        "id": "bV0dRNDBUv94"
      }
    },
    {
      "cell_type": "code",
      "source": [
        "#Importing all the libraries to be used\n",
        "#!pip install nltk\n",
        "import warnings\n",
        "import matplotlib.pyplot as plt\n",
        "import seaborn as sns\n",
        "import numpy as np \n",
        "import pandas as pd\n",
        "import re\n",
        "import nltk\n",
        "nltk.download('punkt')\n",
        "nltk.download('stopwords')\n",
        "nltk.download('wordnet')\n",
        "nltk.download('omw-1.4')\n",
        "from nltk.corpus import stopwords\n",
        "from nltk.stem.porter import PorterStemmer\n",
        "from nltk.stem import WordNetLemmatizer\n",
        "from sklearn.feature_extraction.text import TfidfVectorizer\n",
        "from sklearn.preprocessing import LabelEncoder\n",
        "from sklearn.model_selection import train_test_split\n",
        "from sklearn.pipeline import Pipeline    \n",
        "from sklearn.naive_bayes import MultinomialNB\n",
        "from sklearn.ensemble import RandomForestClassifier\n",
        "from sklearn.neighbors import KNeighborsClassifier\n",
        "from sklearn.svm import SVC\n",
        "from sklearn.model_selection import cross_val_score\n",
        "from matplotlib.colors import ListedColormap\n",
        "from sklearn.metrics import precision_score, recall_score, plot_confusion_matrix, classification_report, accuracy_score, f1_score\n",
        "from sklearn import metrics"
      ],
      "metadata": {
        "execution": {
          "iopub.status.busy": "2021-07-05T06:55:46.003119Z",
          "iopub.execute_input": "2021-07-05T06:55:46.003755Z",
          "iopub.status.idle": "2021-07-05T06:55:47.734038Z",
          "shell.execute_reply.started": "2021-07-05T06:55:46.003715Z",
          "shell.execute_reply": "2021-07-05T06:55:47.733267Z"
        },
        "trusted": true,
        "colab": {
          "base_uri": "https://localhost:8080/"
        },
        "id": "rroB6TskUv94",
        "outputId": "fdb96706-eb19-421d-9a02-78b284d1df93"
      },
      "execution_count": null,
      "outputs": [
        {
          "output_type": "stream",
          "name": "stderr",
          "text": [
            "[nltk_data] Downloading package punkt to /root/nltk_data...\n",
            "[nltk_data]   Unzipping tokenizers/punkt.zip.\n",
            "[nltk_data] Downloading package stopwords to /root/nltk_data...\n",
            "[nltk_data]   Unzipping corpora/stopwords.zip.\n",
            "[nltk_data] Downloading package wordnet to /root/nltk_data...\n",
            "[nltk_data] Downloading package omw-1.4 to /root/nltk_data...\n"
          ]
        }
      ]
    },
    {
      "cell_type": "markdown",
      "source": [
        "<a id=\"2\"></a>\n",
        "# <p style=\"background-color:#E598D8;font-family:newtimeroman;color:#E1F16B;font-size:150%;text-align:center;border-radius:20px 60px;\">LOADING DATA</p>"
      ],
      "metadata": {
        "id": "lHsjEz0yUv95"
      }
    },
    {
      "cell_type": "code",
      "source": [
        "#Loading data\n",
        "data = pd.read_csv(\"drive/MyDrive/capstone1-spam/spam-off-email.csv\")\n",
        "data.info()"
      ],
      "metadata": {
        "execution": {
          "iopub.status.busy": "2021-07-05T06:55:47.735912Z",
          "iopub.execute_input": "2021-07-05T06:55:47.736475Z",
          "iopub.status.idle": "2021-07-05T06:55:47.807299Z",
          "shell.execute_reply.started": "2021-07-05T06:55:47.736440Z",
          "shell.execute_reply": "2021-07-05T06:55:47.806232Z"
        },
        "trusted": true,
        "colab": {
          "base_uri": "https://localhost:8080/"
        },
        "id": "IcyGWPQpUv95",
        "outputId": "7786944d-cf14-4131-d9a2-d8fd617f4006"
      },
      "execution_count": null,
      "outputs": [
        {
          "output_type": "stream",
          "name": "stdout",
          "text": [
            "<class 'pandas.core.frame.DataFrame'>\n",
            "RangeIndex: 1878 entries, 0 to 1877\n",
            "Data columns (total 2 columns):\n",
            " #   Column  Non-Null Count  Dtype \n",
            "---  ------  --------------  ----- \n",
            " 0   v1      1878 non-null   object\n",
            " 1   v2      1878 non-null   object\n",
            "dtypes: object(2)\n",
            "memory usage: 29.5+ KB\n"
          ]
        }
      ]
    },
    {
      "cell_type": "code",
      "source": [
        "# Dropping the redundent looking collumns (for this project)\n",
        "#to_drop = [\"Unnamed: 2\",\"Unnamed: 3\",\"Unnamed: 4\"]\n",
        "#data = data.drop(data[to_drop], axis=1)\n",
        "# Renaming the columns because I feel fancy today \n",
        "data.rename(columns = {\"v1\":\"Target\", \"v2\":\"Text\"}, inplace = True)\n",
        "data.head(50)"
      ],
      "metadata": {
        "execution": {
          "iopub.status.busy": "2021-07-05T06:55:47.809659Z",
          "iopub.execute_input": "2021-07-05T06:55:47.810212Z",
          "iopub.status.idle": "2021-07-05T06:55:47.830570Z",
          "shell.execute_reply.started": "2021-07-05T06:55:47.810171Z",
          "shell.execute_reply": "2021-07-05T06:55:47.829625Z"
        },
        "trusted": true,
        "colab": {
          "base_uri": "https://localhost:8080/",
          "height": 1000
        },
        "id": "gYzXNyjrUv95",
        "outputId": "5ea1e903-0ee6-475b-a4ac-2702431b330b"
      },
      "execution_count": null,
      "outputs": [
        {
          "output_type": "execute_result",
          "data": {
            "text/plain": [
              "   Target                                               Text\n",
              "0     ham  ** PROBLEM Service Alert: evm172-publicamstage...\n",
              "1     ham  ** PROBLEM Service Alert: evm172-publicamstage...\n",
              "2     ham  ** RECOVERY Service Alert: svm161/Total Proces...\n",
              "3     ham  ** RECOVERY Service Alert: svm161/Total Proces...\n",
              "4     ham  ** PROBLEM Service Alert: katonic-katonic-comp...\n",
              "5     ham  ** PROBLEM Service Alert: katonic-katonic-comp...\n",
              "6     ham  Radarr Alert:Sachin Tendulkar - Followers >10K...\n",
              "7     ham  Undeliverable: Amazon: YUNZII SK61 61 Key (60%...\n",
              "8    spam  New application: Technical Recruiter (Gaming) ...\n",
              "9     ham  ALARM: LudoSE-TargetResponseTime\" in Asia Paci...\n",
              "10   spam  ALARM: LudoSE-TargetResponseTime\" in Asia Paci...\n",
              "11    ham                    Password Reset Msg from SpineHR\n",
              "12   spam  Your order#JET017420220731095281518354186 on h...\n",
              "13   spam  Your order#JET017420220731095281518354186 on h...\n",
              "14    ham  ** PROBLEM Service Alert: katonic-platform-nod...\n",
              "15    ham  ** PROBLEM Service Alert: katonic-platform-nod...\n",
              "16    ham  ** PROBLEM Service Alert: katonic-platform-nod...\n",
              "17    ham  ** PROBLEM Service Alert: katonic-platform-nod...\n",
              "18    ham  ** PROBLEM Service Alert: svm160-icondb// Root...\n",
              "19    ham  ** PROBLEM Service Alert: svm160-icondb// Root...\n",
              "20   spam  Your order#JET017420220731094861192214859 on h...\n",
              "21   spam  Your order#JET017420220731094861192214859 on h...\n",
              "22    ham  ** PROBLEM Service Alert: jmn-jetstream-prod-m...\n",
              "23    ham  ** PROBLEM Service Alert: jmn-jetstream-prod-m...\n",
              "24    ham  ** PROBLEM Service Alert: jmn-jetstream-prod-m...\n",
              "25    ham  ** PROBLEM Service Alert: jmn-jetstream-prod-m...\n",
              "26    ham  ** PROBLEM Service Alert: sachinsaga-wp-websit...\n",
              "27    ham  ** PROBLEM Service Alert: sachinsaga-wp-websit...\n",
              "28    ham  ** PROBLEM Service Alert: sachinsaga-wp-websit...\n",
              "29    ham  ** PROBLEM Service Alert: sachinsaga-wp-websit...\n",
              "30    ham  ** PROBLEM Service Alert: svm161/Total Process...\n",
              "31    ham  ** PROBLEM Service Alert: svm161/Total Process...\n",
              "32    ham        Alert - Production (US) - 2022-07-31T04:18Z\n",
              "33    ham        Alert - Production (US) - 2022-07-31T04:18Z\n",
              "34    ham  ** PROBLEM Service Alert: pvm180-jasperdev// R...\n",
              "35    ham  ** PROBLEM Service Alert: pvm180-jasperdev// R...\n",
              "36    ham  ** PROBLEM Service Alert: svm164-pa-jetkins/To...\n",
              "37    ham  ** PROBLEM Service Alert: svm164-pa-jetkins/To...\n",
              "38    ham  ** PROBLEM Service Alert: svm157// Root Partit...\n",
              "39    ham  ** PROBLEM Service Alert: svm157// Root Partit...\n",
              "40    ham  ** PROBLEM Service Alert: Kafka/Swap Usage is ...\n",
              "41    ham  ** PROBLEM Service Alert: Kafka/Swap Usage is ...\n",
              "42    ham  ** PROBLEM Service Alert: Kafka/Swap Usage is ...\n",
              "43   spam  PSL AMJ'22 Update + New Round (~2x Markup in 6...\n",
              "44    ham  ** PROBLEM Service Alert: evm173-iconloadt/Tot...\n",
              "45    ham  ** PROBLEM Service Alert: evm173-iconloadt/Tot...\n",
              "46   spam  Sunday Morning Roundup: Most Read Stories of L...\n",
              "47   spam  ThinkRight User Subscription Renewal Count Report\n",
              "48   spam  ThinkRight User Subscription Renewal Count Report\n",
              "49    ham  ThinkRight User Subscription Renewal Count Report"
            ],
            "text/html": [
              "\n",
              "  <div id=\"df-30d38acb-0131-41f8-a7be-e043f55313d1\">\n",
              "    <div class=\"colab-df-container\">\n",
              "      <div>\n",
              "<style scoped>\n",
              "    .dataframe tbody tr th:only-of-type {\n",
              "        vertical-align: middle;\n",
              "    }\n",
              "\n",
              "    .dataframe tbody tr th {\n",
              "        vertical-align: top;\n",
              "    }\n",
              "\n",
              "    .dataframe thead th {\n",
              "        text-align: right;\n",
              "    }\n",
              "</style>\n",
              "<table border=\"1\" class=\"dataframe\">\n",
              "  <thead>\n",
              "    <tr style=\"text-align: right;\">\n",
              "      <th></th>\n",
              "      <th>Target</th>\n",
              "      <th>Text</th>\n",
              "    </tr>\n",
              "  </thead>\n",
              "  <tbody>\n",
              "    <tr>\n",
              "      <th>0</th>\n",
              "      <td>ham</td>\n",
              "      <td>** PROBLEM Service Alert: evm172-publicamstage...</td>\n",
              "    </tr>\n",
              "    <tr>\n",
              "      <th>1</th>\n",
              "      <td>ham</td>\n",
              "      <td>** PROBLEM Service Alert: evm172-publicamstage...</td>\n",
              "    </tr>\n",
              "    <tr>\n",
              "      <th>2</th>\n",
              "      <td>ham</td>\n",
              "      <td>** RECOVERY Service Alert: svm161/Total Proces...</td>\n",
              "    </tr>\n",
              "    <tr>\n",
              "      <th>3</th>\n",
              "      <td>ham</td>\n",
              "      <td>** RECOVERY Service Alert: svm161/Total Proces...</td>\n",
              "    </tr>\n",
              "    <tr>\n",
              "      <th>4</th>\n",
              "      <td>ham</td>\n",
              "      <td>** PROBLEM Service Alert: katonic-katonic-comp...</td>\n",
              "    </tr>\n",
              "    <tr>\n",
              "      <th>5</th>\n",
              "      <td>ham</td>\n",
              "      <td>** PROBLEM Service Alert: katonic-katonic-comp...</td>\n",
              "    </tr>\n",
              "    <tr>\n",
              "      <th>6</th>\n",
              "      <td>ham</td>\n",
              "      <td>Radarr Alert:Sachin Tendulkar - Followers &gt;10K...</td>\n",
              "    </tr>\n",
              "    <tr>\n",
              "      <th>7</th>\n",
              "      <td>ham</td>\n",
              "      <td>Undeliverable: Amazon: YUNZII SK61 61 Key (60%...</td>\n",
              "    </tr>\n",
              "    <tr>\n",
              "      <th>8</th>\n",
              "      <td>spam</td>\n",
              "      <td>New application: Technical Recruiter (Gaming) ...</td>\n",
              "    </tr>\n",
              "    <tr>\n",
              "      <th>9</th>\n",
              "      <td>ham</td>\n",
              "      <td>ALARM: LudoSE-TargetResponseTime\" in Asia Paci...</td>\n",
              "    </tr>\n",
              "    <tr>\n",
              "      <th>10</th>\n",
              "      <td>spam</td>\n",
              "      <td>ALARM: LudoSE-TargetResponseTime\" in Asia Paci...</td>\n",
              "    </tr>\n",
              "    <tr>\n",
              "      <th>11</th>\n",
              "      <td>ham</td>\n",
              "      <td>Password Reset Msg from SpineHR</td>\n",
              "    </tr>\n",
              "    <tr>\n",
              "      <th>12</th>\n",
              "      <td>spam</td>\n",
              "      <td>Your order#JET017420220731095281518354186 on h...</td>\n",
              "    </tr>\n",
              "    <tr>\n",
              "      <th>13</th>\n",
              "      <td>spam</td>\n",
              "      <td>Your order#JET017420220731095281518354186 on h...</td>\n",
              "    </tr>\n",
              "    <tr>\n",
              "      <th>14</th>\n",
              "      <td>ham</td>\n",
              "      <td>** PROBLEM Service Alert: katonic-platform-nod...</td>\n",
              "    </tr>\n",
              "    <tr>\n",
              "      <th>15</th>\n",
              "      <td>ham</td>\n",
              "      <td>** PROBLEM Service Alert: katonic-platform-nod...</td>\n",
              "    </tr>\n",
              "    <tr>\n",
              "      <th>16</th>\n",
              "      <td>ham</td>\n",
              "      <td>** PROBLEM Service Alert: katonic-platform-nod...</td>\n",
              "    </tr>\n",
              "    <tr>\n",
              "      <th>17</th>\n",
              "      <td>ham</td>\n",
              "      <td>** PROBLEM Service Alert: katonic-platform-nod...</td>\n",
              "    </tr>\n",
              "    <tr>\n",
              "      <th>18</th>\n",
              "      <td>ham</td>\n",
              "      <td>** PROBLEM Service Alert: svm160-icondb// Root...</td>\n",
              "    </tr>\n",
              "    <tr>\n",
              "      <th>19</th>\n",
              "      <td>ham</td>\n",
              "      <td>** PROBLEM Service Alert: svm160-icondb// Root...</td>\n",
              "    </tr>\n",
              "    <tr>\n",
              "      <th>20</th>\n",
              "      <td>spam</td>\n",
              "      <td>Your order#JET017420220731094861192214859 on h...</td>\n",
              "    </tr>\n",
              "    <tr>\n",
              "      <th>21</th>\n",
              "      <td>spam</td>\n",
              "      <td>Your order#JET017420220731094861192214859 on h...</td>\n",
              "    </tr>\n",
              "    <tr>\n",
              "      <th>22</th>\n",
              "      <td>ham</td>\n",
              "      <td>** PROBLEM Service Alert: jmn-jetstream-prod-m...</td>\n",
              "    </tr>\n",
              "    <tr>\n",
              "      <th>23</th>\n",
              "      <td>ham</td>\n",
              "      <td>** PROBLEM Service Alert: jmn-jetstream-prod-m...</td>\n",
              "    </tr>\n",
              "    <tr>\n",
              "      <th>24</th>\n",
              "      <td>ham</td>\n",
              "      <td>** PROBLEM Service Alert: jmn-jetstream-prod-m...</td>\n",
              "    </tr>\n",
              "    <tr>\n",
              "      <th>25</th>\n",
              "      <td>ham</td>\n",
              "      <td>** PROBLEM Service Alert: jmn-jetstream-prod-m...</td>\n",
              "    </tr>\n",
              "    <tr>\n",
              "      <th>26</th>\n",
              "      <td>ham</td>\n",
              "      <td>** PROBLEM Service Alert: sachinsaga-wp-websit...</td>\n",
              "    </tr>\n",
              "    <tr>\n",
              "      <th>27</th>\n",
              "      <td>ham</td>\n",
              "      <td>** PROBLEM Service Alert: sachinsaga-wp-websit...</td>\n",
              "    </tr>\n",
              "    <tr>\n",
              "      <th>28</th>\n",
              "      <td>ham</td>\n",
              "      <td>** PROBLEM Service Alert: sachinsaga-wp-websit...</td>\n",
              "    </tr>\n",
              "    <tr>\n",
              "      <th>29</th>\n",
              "      <td>ham</td>\n",
              "      <td>** PROBLEM Service Alert: sachinsaga-wp-websit...</td>\n",
              "    </tr>\n",
              "    <tr>\n",
              "      <th>30</th>\n",
              "      <td>ham</td>\n",
              "      <td>** PROBLEM Service Alert: svm161/Total Process...</td>\n",
              "    </tr>\n",
              "    <tr>\n",
              "      <th>31</th>\n",
              "      <td>ham</td>\n",
              "      <td>** PROBLEM Service Alert: svm161/Total Process...</td>\n",
              "    </tr>\n",
              "    <tr>\n",
              "      <th>32</th>\n",
              "      <td>ham</td>\n",
              "      <td>Alert - Production (US) - 2022-07-31T04:18Z</td>\n",
              "    </tr>\n",
              "    <tr>\n",
              "      <th>33</th>\n",
              "      <td>ham</td>\n",
              "      <td>Alert - Production (US) - 2022-07-31T04:18Z</td>\n",
              "    </tr>\n",
              "    <tr>\n",
              "      <th>34</th>\n",
              "      <td>ham</td>\n",
              "      <td>** PROBLEM Service Alert: pvm180-jasperdev// R...</td>\n",
              "    </tr>\n",
              "    <tr>\n",
              "      <th>35</th>\n",
              "      <td>ham</td>\n",
              "      <td>** PROBLEM Service Alert: pvm180-jasperdev// R...</td>\n",
              "    </tr>\n",
              "    <tr>\n",
              "      <th>36</th>\n",
              "      <td>ham</td>\n",
              "      <td>** PROBLEM Service Alert: svm164-pa-jetkins/To...</td>\n",
              "    </tr>\n",
              "    <tr>\n",
              "      <th>37</th>\n",
              "      <td>ham</td>\n",
              "      <td>** PROBLEM Service Alert: svm164-pa-jetkins/To...</td>\n",
              "    </tr>\n",
              "    <tr>\n",
              "      <th>38</th>\n",
              "      <td>ham</td>\n",
              "      <td>** PROBLEM Service Alert: svm157// Root Partit...</td>\n",
              "    </tr>\n",
              "    <tr>\n",
              "      <th>39</th>\n",
              "      <td>ham</td>\n",
              "      <td>** PROBLEM Service Alert: svm157// Root Partit...</td>\n",
              "    </tr>\n",
              "    <tr>\n",
              "      <th>40</th>\n",
              "      <td>ham</td>\n",
              "      <td>** PROBLEM Service Alert: Kafka/Swap Usage is ...</td>\n",
              "    </tr>\n",
              "    <tr>\n",
              "      <th>41</th>\n",
              "      <td>ham</td>\n",
              "      <td>** PROBLEM Service Alert: Kafka/Swap Usage is ...</td>\n",
              "    </tr>\n",
              "    <tr>\n",
              "      <th>42</th>\n",
              "      <td>ham</td>\n",
              "      <td>** PROBLEM Service Alert: Kafka/Swap Usage is ...</td>\n",
              "    </tr>\n",
              "    <tr>\n",
              "      <th>43</th>\n",
              "      <td>spam</td>\n",
              "      <td>PSL AMJ'22 Update + New Round (~2x Markup in 6...</td>\n",
              "    </tr>\n",
              "    <tr>\n",
              "      <th>44</th>\n",
              "      <td>ham</td>\n",
              "      <td>** PROBLEM Service Alert: evm173-iconloadt/Tot...</td>\n",
              "    </tr>\n",
              "    <tr>\n",
              "      <th>45</th>\n",
              "      <td>ham</td>\n",
              "      <td>** PROBLEM Service Alert: evm173-iconloadt/Tot...</td>\n",
              "    </tr>\n",
              "    <tr>\n",
              "      <th>46</th>\n",
              "      <td>spam</td>\n",
              "      <td>Sunday Morning Roundup: Most Read Stories of L...</td>\n",
              "    </tr>\n",
              "    <tr>\n",
              "      <th>47</th>\n",
              "      <td>spam</td>\n",
              "      <td>ThinkRight User Subscription Renewal Count Report</td>\n",
              "    </tr>\n",
              "    <tr>\n",
              "      <th>48</th>\n",
              "      <td>spam</td>\n",
              "      <td>ThinkRight User Subscription Renewal Count Report</td>\n",
              "    </tr>\n",
              "    <tr>\n",
              "      <th>49</th>\n",
              "      <td>ham</td>\n",
              "      <td>ThinkRight User Subscription Renewal Count Report</td>\n",
              "    </tr>\n",
              "  </tbody>\n",
              "</table>\n",
              "</div>\n",
              "      <button class=\"colab-df-convert\" onclick=\"convertToInteractive('df-30d38acb-0131-41f8-a7be-e043f55313d1')\"\n",
              "              title=\"Convert this dataframe to an interactive table.\"\n",
              "              style=\"display:none;\">\n",
              "        \n",
              "  <svg xmlns=\"http://www.w3.org/2000/svg\" height=\"24px\"viewBox=\"0 0 24 24\"\n",
              "       width=\"24px\">\n",
              "    <path d=\"M0 0h24v24H0V0z\" fill=\"none\"/>\n",
              "    <path d=\"M18.56 5.44l.94 2.06.94-2.06 2.06-.94-2.06-.94-.94-2.06-.94 2.06-2.06.94zm-11 1L8.5 8.5l.94-2.06 2.06-.94-2.06-.94L8.5 2.5l-.94 2.06-2.06.94zm10 10l.94 2.06.94-2.06 2.06-.94-2.06-.94-.94-2.06-.94 2.06-2.06.94z\"/><path d=\"M17.41 7.96l-1.37-1.37c-.4-.4-.92-.59-1.43-.59-.52 0-1.04.2-1.43.59L10.3 9.45l-7.72 7.72c-.78.78-.78 2.05 0 2.83L4 21.41c.39.39.9.59 1.41.59.51 0 1.02-.2 1.41-.59l7.78-7.78 2.81-2.81c.8-.78.8-2.07 0-2.86zM5.41 20L4 18.59l7.72-7.72 1.47 1.35L5.41 20z\"/>\n",
              "  </svg>\n",
              "      </button>\n",
              "      \n",
              "  <style>\n",
              "    .colab-df-container {\n",
              "      display:flex;\n",
              "      flex-wrap:wrap;\n",
              "      gap: 12px;\n",
              "    }\n",
              "\n",
              "    .colab-df-convert {\n",
              "      background-color: #E8F0FE;\n",
              "      border: none;\n",
              "      border-radius: 50%;\n",
              "      cursor: pointer;\n",
              "      display: none;\n",
              "      fill: #1967D2;\n",
              "      height: 32px;\n",
              "      padding: 0 0 0 0;\n",
              "      width: 32px;\n",
              "    }\n",
              "\n",
              "    .colab-df-convert:hover {\n",
              "      background-color: #E2EBFA;\n",
              "      box-shadow: 0px 1px 2px rgba(60, 64, 67, 0.3), 0px 1px 3px 1px rgba(60, 64, 67, 0.15);\n",
              "      fill: #174EA6;\n",
              "    }\n",
              "\n",
              "    [theme=dark] .colab-df-convert {\n",
              "      background-color: #3B4455;\n",
              "      fill: #D2E3FC;\n",
              "    }\n",
              "\n",
              "    [theme=dark] .colab-df-convert:hover {\n",
              "      background-color: #434B5C;\n",
              "      box-shadow: 0px 1px 3px 1px rgba(0, 0, 0, 0.15);\n",
              "      filter: drop-shadow(0px 1px 2px rgba(0, 0, 0, 0.3));\n",
              "      fill: #FFFFFF;\n",
              "    }\n",
              "  </style>\n",
              "\n",
              "      <script>\n",
              "        const buttonEl =\n",
              "          document.querySelector('#df-30d38acb-0131-41f8-a7be-e043f55313d1 button.colab-df-convert');\n",
              "        buttonEl.style.display =\n",
              "          google.colab.kernel.accessAllowed ? 'block' : 'none';\n",
              "\n",
              "        async function convertToInteractive(key) {\n",
              "          const element = document.querySelector('#df-30d38acb-0131-41f8-a7be-e043f55313d1');\n",
              "          const dataTable =\n",
              "            await google.colab.kernel.invokeFunction('convertToInteractive',\n",
              "                                                     [key], {});\n",
              "          if (!dataTable) return;\n",
              "\n",
              "          const docLinkHtml = 'Like what you see? Visit the ' +\n",
              "            '<a target=\"_blank\" href=https://colab.research.google.com/notebooks/data_table.ipynb>data table notebook</a>'\n",
              "            + ' to learn more about interactive tables.';\n",
              "          element.innerHTML = '';\n",
              "          dataTable['output_type'] = 'display_data';\n",
              "          await google.colab.output.renderOutput(dataTable, element);\n",
              "          const docLink = document.createElement('div');\n",
              "          docLink.innerHTML = docLinkHtml;\n",
              "          element.appendChild(docLink);\n",
              "        }\n",
              "      </script>\n",
              "    </div>\n",
              "  </div>\n",
              "  "
            ]
          },
          "metadata": {},
          "execution_count": 5
        }
      ]
    },
    {
      "cell_type": "markdown",
      "source": [
        "**The dataset consists of 5,574 messages in English. The data is designated as being ham or spam.  Dataframe has two columns. The first column is \"Target\" indicating the class of message as ham or spam and the second \"Text\" column is the string of text.** \n",
        "\n",
        "<a id=\"3\"></a>\n",
        "# <p style=\"background-color:#E598D8;font-family:newtimeroman;color:#E1F16B;font-size:150%;text-align:center;border-radius:20px 60px;\">DATA EXPLORATION</p>"
      ],
      "metadata": {
        "id": "mfwUB2VDUv97"
      }
    },
    {
      "cell_type": "code",
      "source": [
        "#Palette\n",
        "cols= [\"#E1F16B\", \"#E598D8\"] \n",
        "#first of all let us evaluate the target and find out if our data is imbalanced or not\n",
        "plt.figure(figsize=(12,8))\n",
        "fg = sns.countplot(x= data[\"Target\"], palette= cols)\n",
        "fg.set_title(\"Count Plot of Classes\", color=\"#58508d\")\n",
        "fg.set_xlabel(\"Classes\", color=\"#58508d\")\n",
        "fg.set_ylabel(\"Number of Data points\", color=\"#58508d\")"
      ],
      "metadata": {
        "execution": {
          "iopub.status.busy": "2021-07-05T06:55:47.831661Z",
          "iopub.execute_input": "2021-07-05T06:55:47.831926Z",
          "iopub.status.idle": "2021-07-05T06:55:47.995366Z",
          "shell.execute_reply.started": "2021-07-05T06:55:47.831901Z",
          "shell.execute_reply": "2021-07-05T06:55:47.994622Z"
        },
        "trusted": true,
        "colab": {
          "base_uri": "https://localhost:8080/",
          "height": 530
        },
        "id": "49cU5BSnUv97",
        "outputId": "b261db52-357d-4651-98fc-9a3606ffc3bb"
      },
      "execution_count": null,
      "outputs": [
        {
          "output_type": "execute_result",
          "data": {
            "text/plain": [
              "Text(0, 0.5, 'Number of Data points')"
            ]
          },
          "metadata": {},
          "execution_count": 6
        },
        {
          "output_type": "display_data",
          "data": {
            "text/plain": [
              "<Figure size 864x576 with 1 Axes>"
            ],
            "image/png": "[encoded data removed]"
          },
          "metadata": {
            "needs_background": "light"
          }
        }
      ]
    },
    {
      "cell_type": "markdown",
      "source": [
        "**Note:** From the above countplot the data imbalance is quite evident. \n",
        "\n",
        "<a id=\"3.1\"></a>\n",
        "# <p style=\"background-color:#E1F16B;font-family:newtimeroman;color:#E598D8;text-align:center;font-size:80%;border-radius:20px 60px;\">FEATURE ENGINEERING</p>\n",
        "\n",
        "For the purpose of data exploration, I am creating new features \n",
        "\n",
        "* No_of_Characters: Number of characters in the text message\n",
        "* No_of_Words: Number of words in the text message\n",
        "* No_of_sentence: Number of sentences in the text message  "
      ],
      "metadata": {
        "id": "n3_Sb5uJUv98"
      }
    },
    {
      "cell_type": "code",
      "source": [
        "#Adding a column of numbers of charachters,words and sentences in each msg\n",
        "data[\"No_of_Characters\"] = data[\"Text\"].apply(len)\n",
        "data[\"No_of_Words\"]=data.apply(lambda row: nltk.word_tokenize(row[\"Text\"]), axis=1).apply(len)\n",
        "data[\"No_of_sentence\"]=data.apply(lambda row: nltk.sent_tokenize(row[\"Text\"]), axis=1).apply(len)\n",
        "\n",
        "data.describe().T\n",
        "\n",
        "#PS. At this step, I tokenised the words and sentences and used the length of the same. \n",
        "#More on Tokenizing later in the notebook."
      ],
      "metadata": {
        "execution": {
          "iopub.status.busy": "2021-07-05T06:55:47.996778Z",
          "iopub.execute_input": "2021-07-05T06:55:47.997463Z",
          "iopub.status.idle": "2021-07-05T06:55:50.319642Z",
          "shell.execute_reply.started": "2021-07-05T06:55:47.997423Z",
          "shell.execute_reply": "2021-07-05T06:55:50.318579Z"
        },
        "trusted": true,
        "colab": {
          "base_uri": "https://localhost:8080/",
          "height": 143
        },
        "id": "97QUIVbzUv98",
        "outputId": "86fc8f6e-9863-4f61-b0fe-df5e2682d453"
      },
      "execution_count": null,
      "outputs": [
        {
          "output_type": "execute_result",
          "data": {
            "text/plain": [
              "                   count       mean        std  min   25%   50%   75%    max\n",
              "No_of_Characters  1878.0  60.168264  23.243595  2.0  43.0  62.0  78.0  135.0\n",
              "No_of_Words       1878.0  10.121938   4.003400  1.0   7.0  12.0  13.0   22.0\n",
              "No_of_sentence    1878.0   1.000000   0.000000  1.0   1.0   1.0   1.0    1.0"
            ],
            "text/html": [
              "\n",
              "  <div id=\"df-0919f859-01cd-4704-8bfc-c91a8f0c9b5d\">\n",
              "    <div class=\"colab-df-container\">\n",
              "      <div>\n",
              "<style scoped>\n",
              "    .dataframe tbody tr th:only-of-type {\n",
              "        vertical-align: middle;\n",
              "    }\n",
              "\n",
              "    .dataframe tbody tr th {\n",
              "        vertical-align: top;\n",
              "    }\n",
              "\n",
              "    .dataframe thead th {\n",
              "        text-align: right;\n",
              "    }\n",
              "</style>\n",
              "<table border=\"1\" class=\"dataframe\">\n",
              "  <thead>\n",
              "    <tr style=\"text-align: right;\">\n",
              "      <th></th>\n",
              "      <th>count</th>\n",
              "      <th>mean</th>\n",
              "      <th>std</th>\n",
              "      <th>min</th>\n",
              "      <th>25%</th>\n",
              "      <th>50%</th>\n",
              "      <th>75%</th>\n",
              "      <th>max</th>\n",
              "    </tr>\n",
              "  </thead>\n",
              "  <tbody>\n",
              "    <tr>\n",
              "      <th>No_of_Characters</th>\n",
              "      <td>1878.0</td>\n",
              "      <td>60.168264</td>\n",
              "      <td>23.243595</td>\n",
              "      <td>2.0</td>\n",
              "      <td>43.0</td>\n",
              "      <td>62.0</td>\n",
              "      <td>78.0</td>\n",
              "      <td>135.0</td>\n",
              "    </tr>\n",
              "    <tr>\n",
              "      <th>No_of_Words</th>\n",
              "      <td>1878.0</td>\n",
              "      <td>10.121938</td>\n",
              "      <td>4.003400</td>\n",
              "      <td>1.0</td>\n",
              "      <td>7.0</td>\n",
              "      <td>12.0</td>\n",
              "      <td>13.0</td>\n",
              "      <td>22.0</td>\n",
              "    </tr>\n",
              "    <tr>\n",
              "      <th>No_of_sentence</th>\n",
              "      <td>1878.0</td>\n",
              "      <td>1.000000</td>\n",
              "      <td>0.000000</td>\n",
              "      <td>1.0</td>\n",
              "      <td>1.0</td>\n",
              "      <td>1.0</td>\n",
              "      <td>1.0</td>\n",
              "      <td>1.0</td>\n",
              "    </tr>\n",
              "  </tbody>\n",
              "</table>\n",
              "</div>\n",
              "      <button class=\"colab-df-convert\" onclick=\"convertToInteractive('df-0919f859-01cd-4704-8bfc-c91a8f0c9b5d')\"\n",
              "              title=\"Convert this dataframe to an interactive table.\"\n",
              "              style=\"display:none;\">\n",
              "        \n",
              "  <svg xmlns=\"http://www.w3.org/2000/svg\" height=\"24px\"viewBox=\"0 0 24 24\"\n",
              "       width=\"24px\">\n",
              "    <path d=\"M0 0h24v24H0V0z\" fill=\"none\"/>\n",
              "    <path d=\"M18.56 5.44l.94 2.06.94-2.06 2.06-.94-2.06-.94-.94-2.06-.94 2.06-2.06.94zm-11 1L8.5 8.5l.94-2.06 2.06-.94-2.06-.94L8.5 2.5l-.94 2.06-2.06.94zm10 10l.94 2.06.94-2.06 2.06-.94-2.06-.94-.94-2.06-.94 2.06-2.06.94z\"/><path d=\"M17.41 7.96l-1.37-1.37c-.4-.4-.92-.59-1.43-.59-.52 0-1.04.2-1.43.59L10.3 9.45l-7.72 7.72c-.78.78-.78 2.05 0 2.83L4 21.41c.39.39.9.59 1.41.59.51 0 1.02-.2 1.41-.59l7.78-7.78 2.81-2.81c.8-.78.8-2.07 0-2.86zM5.41 20L4 18.59l7.72-7.72 1.47 1.35L5.41 20z\"/>\n",
              "  </svg>\n",
              "      </button>\n",
              "      \n",
              "  <style>\n",
              "    .colab-df-container {\n",
              "      display:flex;\n",
              "      flex-wrap:wrap;\n",
              "      gap: 12px;\n",
              "    }\n",
              "\n",
              "    .colab-df-convert {\n",
              "      background-color: #E8F0FE;\n",
              "      border: none;\n",
              "      border-radius: 50%;\n",
              "      cursor: pointer;\n",
              "      display: none;\n",
              "      fill: #1967D2;\n",
              "      height: 32px;\n",
              "      padding: 0 0 0 0;\n",
              "      width: 32px;\n",
              "    }\n",
              "\n",
              "    .colab-df-convert:hover {\n",
              "      background-color: #E2EBFA;\n",
              "      box-shadow: 0px 1px 2px rgba(60, 64, 67, 0.3), 0px 1px 3px 1px rgba(60, 64, 67, 0.15);\n",
              "      fill: #174EA6;\n",
              "    }\n",
              "\n",
              "    [theme=dark] .colab-df-convert {\n",
              "      background-color: #3B4455;\n",
              "      fill: #D2E3FC;\n",
              "    }\n",
              "\n",
              "    [theme=dark] .colab-df-convert:hover {\n",
              "      background-color: #434B5C;\n",
              "      box-shadow: 0px 1px 3px 1px rgba(0, 0, 0, 0.15);\n",
              "      filter: drop-shadow(0px 1px 2px rgba(0, 0, 0, 0.3));\n",
              "      fill: #FFFFFF;\n",
              "    }\n",
              "  </style>\n",
              "\n",
              "      <script>\n",
              "        const buttonEl =\n",
              "          document.querySelector('#df-0919f859-01cd-4704-8bfc-c91a8f0c9b5d button.colab-df-convert');\n",
              "        buttonEl.style.display =\n",
              "          google.colab.kernel.accessAllowed ? 'block' : 'none';\n",
              "\n",
              "        async function convertToInteractive(key) {\n",
              "          const element = document.querySelector('#df-0919f859-01cd-4704-8bfc-c91a8f0c9b5d');\n",
              "          const dataTable =\n",
              "            await google.colab.kernel.invokeFunction('convertToInteractive',\n",
              "                                                     [key], {});\n",
              "          if (!dataTable) return;\n",
              "\n",
              "          const docLinkHtml = 'Like what you see? Visit the ' +\n",
              "            '<a target=\"_blank\" href=https://colab.research.google.com/notebooks/data_table.ipynb>data table notebook</a>'\n",
              "            + ' to learn more about interactive tables.';\n",
              "          element.innerHTML = '';\n",
              "          dataTable['output_type'] = 'display_data';\n",
              "          await google.colab.output.renderOutput(dataTable, element);\n",
              "          const docLink = document.createElement('div');\n",
              "          docLink.innerHTML = docLinkHtml;\n",
              "          element.appendChild(docLink);\n",
              "        }\n",
              "      </script>\n",
              "    </div>\n",
              "  </div>\n",
              "  "
            ]
          },
          "metadata": {},
          "execution_count": 7
        }
      ]
    },
    {
      "cell_type": "code",
      "source": [
        "plt.figure(figsize=(12,8))\n",
        "fg = sns.pairplot(data=data, hue=\"Target\",palette=cols)\n",
        "plt.show(fg)"
      ],
      "metadata": {
        "execution": {
          "iopub.status.busy": "2021-07-05T06:55:50.321047Z",
          "iopub.execute_input": "2021-07-05T06:55:50.321440Z",
          "iopub.status.idle": "2021-07-05T06:55:54.742653Z",
          "shell.execute_reply.started": "2021-07-05T06:55:50.321397Z",
          "shell.execute_reply": "2021-07-05T06:55:54.741896Z"
        },
        "trusted": true,
        "colab": {
          "base_uri": "https://localhost:8080/",
          "height": 567
        },
        "id": "pkM1bMZ-Uv98",
        "outputId": "33757471-2325-4784-ff3f-fe00aa2ceae9"
      },
      "execution_count": null,
      "outputs": [
        {
          "output_type": "display_data",
          "data": {
            "text/plain": [
              "<Figure size 864x576 with 0 Axes>"
            ]
          },
          "metadata": {}
        },
        {
          "output_type": "display_data",
          "data": {
            "text/plain": [
              "<Figure size 603.25x540 with 12 Axes>"
            ],
            "image/png": "[encoded data removed]"
          },
          "metadata": {
            "needs_background": "light"
          }
        }
      ]
    },
    {
      "cell_type": "markdown",
      "source": [
        "**Note:** From the pair plot, we can see a few outliers all in the class ham. This is interesting as we could put a cap over one of these. As they essentially indicate the same thing ie the length of email. \n",
        "\n",
        "Next, I shall be dropping the outliers\n",
        "\n",
        "<a id=\"3.2\"></a>\n",
        "# <p style=\"background-color:#E1F16B;font-family:newtimeroman;color:#E598D8;text-align:center;font-size:80%;border-radius:20px 60px;\">OUTLIER DETECTION</p>"
      ],
      "metadata": {
        "id": "sITKuqAEUv99"
      }
    },
    {
      "cell_type": "code",
      "source": [
        "#Dropping the outliers. \n",
        "data = data[(data[\"No_of_Characters\"]<350)]\n",
        "data.shape"
      ],
      "metadata": {
        "execution": {
          "iopub.status.busy": "2021-07-05T06:55:54.743713Z",
          "iopub.execute_input": "2021-07-05T06:55:54.744116Z",
          "iopub.status.idle": "2021-07-05T06:55:54.751944Z",
          "shell.execute_reply.started": "2021-07-05T06:55:54.744088Z",
          "shell.execute_reply": "2021-07-05T06:55:54.750953Z"
        },
        "trusted": true,
        "colab": {
          "base_uri": "https://localhost:8080/"
        },
        "id": "SVP4eDyEUv99",
        "outputId": "a5740848-d06e-457e-fda6-80842197d4fb"
      },
      "execution_count": null,
      "outputs": [
        {
          "output_type": "execute_result",
          "data": {
            "text/plain": [
              "(1878, 5)"
            ]
          },
          "metadata": {},
          "execution_count": 9
        }
      ]
    },
    {
      "cell_type": "code",
      "source": [
        "plt.figure(figsize=(12,8))\n",
        "fg = sns.pairplot(data=data, hue=\"Target\",palette=cols)\n",
        "plt.show(fg)"
      ],
      "metadata": {
        "execution": {
          "iopub.status.busy": "2021-07-05T06:55:54.753349Z",
          "iopub.execute_input": "2021-07-05T06:55:54.753745Z",
          "iopub.status.idle": "2021-07-05T06:55:58.896851Z",
          "shell.execute_reply.started": "2021-07-05T06:55:54.753716Z",
          "shell.execute_reply": "2021-07-05T06:55:58.895783Z"
        },
        "trusted": true,
        "colab": {
          "base_uri": "https://localhost:8080/",
          "height": 568
        },
        "id": "rNFTszNNUv9-",
        "outputId": "c795dd1f-aee1-4d93-8378-57e0453adb39"
      },
      "execution_count": null,
      "outputs": [
        {
          "output_type": "display_data",
          "data": {
            "text/plain": [
              "<Figure size 864x576 with 0 Axes>"
            ]
          },
          "metadata": {}
        },
        {
          "output_type": "display_data",
          "data": {
            "text/plain": [
              "<Figure size 603.25x540 with 12 Axes>"
            ],
            "image/png": "[encoded data removed]"
          },
          "metadata": {
            "needs_background": "light"
          }
        }
      ]
    },
    {
      "cell_type": "markdown",
      "source": [
        "*Of course, I already knew it would just zoom into, but I still replotted it because look at all those pretty colours! (:*\n",
        "\n",
        "<a id=\"4\"></a>\n",
        "# <p style=\"background-color:#E598D8;font-family:newtimeroman;color:#E1F16B;font-size:150%;text-align:center;border-radius:20px 60px;\">DATA PREPREPROCESSING</p>\n",
        "\n",
        "![Yellow and Purple Illustrated Voice Talent Minimalist Marketing Presentation (1).png](attachment:6d6dddaa-caf9-430d-8329-2765158e4eb4.png)"
      ],
      "metadata": {
        "id": "6fNAq3rTUv9-"
      }
    },
    {
      "cell_type": "markdown",
      "source": [
        "<a id=\"4.1\"></a>\n",
        "# <p style=\"background-color:#E1F16B;font-family:newtimeroman;color:#E598D8;text-align:center;font-size:80%;border-radius:20px 60px;\">CLEANING TEXT</p>\n",
        "\n",
        "The data cleaning process NLP is crucial. The computer doesn’t understand the text. for the computer, it is just a cluster of symbols. To further process the data we need to make the data cleaner. \n",
        "\n",
        "* In the first step we extract only the alphabetic characters by this we are removing punctuation and numbers. \n",
        "* In the next step, we are converting all the characters into lowercase. \n",
        "\n",
        "This text will be then used in further procrssing"
      ],
      "metadata": {
        "id": "7cV2x74NUv9-"
      }
    },
    {
      "cell_type": "code",
      "source": [
        "#Lets have a look at a sample of texts before cleaning\n",
        "print(\"\\033[1m\\u001b[45;1m The First 5 Texts:\\033[0m\",*data[\"Text\"][:5], sep = \"\\n\")"
      ],
      "metadata": {
        "execution": {
          "iopub.status.busy": "2021-07-05T06:55:58.898056Z",
          "iopub.execute_input": "2021-07-05T06:55:58.898343Z",
          "iopub.status.idle": "2021-07-05T06:55:58.904365Z",
          "shell.execute_reply.started": "2021-07-05T06:55:58.898317Z",
          "shell.execute_reply": "2021-07-05T06:55:58.903443Z"
        },
        "trusted": true,
        "colab": {
          "base_uri": "https://localhost:8080/"
        },
        "id": "ykywdI7-Uv9_",
        "outputId": "a40b95ff-ca8a-4e61-e716-c9d883b6122a"
      },
      "execution_count": null,
      "outputs": [
        {
          "output_type": "stream",
          "name": "stdout",
          "text": [
            "\u001b[1m\u001b[45;1m The First 5 Texts:\u001b[0m\n",
            "** PROBLEM Service Alert: evm172-publicamstage/Partition - /var/www is WARNING **\n",
            "** PROBLEM Service Alert: evm172-publicamstage/Partition - /var/www is WARNING **\n",
            "** RECOVERY Service Alert: svm161/Total Processes is OK **\n",
            "** RECOVERY Service Alert: svm161/Total Processes is OK **\n",
            "** PROBLEM Service Alert: katonic-katonic-compute-node-01/check RAM on server is WARNING **\n"
          ]
        }
      ]
    },
    {
      "cell_type": "code",
      "source": [
        "# Defining a function to clean up the text\n",
        "def Clean(Text):\n",
        "    sms = re.sub('[^a-zA-Z]', ' ', Text) #Replacing all non-alphabetic characters with a space\n",
        "    sms = sms.lower() #converting to lowecase\n",
        "    sms = sms.split()\n",
        "    sms = ' '.join(sms)\n",
        "    return sms\n",
        "\n",
        "data[\"Clean_Text\"] = data[\"Text\"].apply(Clean)\n",
        "#Lets have a look at a sample of texts after cleaning\n",
        "print(\"\\033[1m\\u001b[45;1m The First 5 Texts after cleaning:\\033[0m\",*data[\"Clean_Text\"][:5], sep = \"\\n\")"
      ],
      "metadata": {
        "execution": {
          "iopub.status.busy": "2021-07-05T06:55:58.906000Z",
          "iopub.execute_input": "2021-07-05T06:55:58.906301Z",
          "iopub.status.idle": "2021-07-05T06:55:58.991654Z",
          "shell.execute_reply.started": "2021-07-05T06:55:58.906273Z",
          "shell.execute_reply": "2021-07-05T06:55:58.990472Z"
        },
        "trusted": true,
        "colab": {
          "base_uri": "https://localhost:8080/"
        },
        "id": "Sve8x_QOUv9_",
        "outputId": "26c50aaa-c523-4945-acc3-c36f873695b1"
      },
      "execution_count": null,
      "outputs": [
        {
          "output_type": "stream",
          "name": "stdout",
          "text": [
            "\u001b[1m\u001b[45;1m The First 5 Texts after cleaning:\u001b[0m\n",
            "problem service alert evm publicamstage partition var www is warning\n",
            "problem service alert evm publicamstage partition var www is warning\n",
            "recovery service alert svm total processes is ok\n",
            "recovery service alert svm total processes is ok\n",
            "problem service alert katonic katonic compute node check ram on server is warning\n"
          ]
        }
      ]
    },
    {
      "cell_type": "markdown",
      "source": [
        "<a id=\"4.2\"></a>\n",
        "# <p style=\"background-color:#E1F16B;font-family:newtimeroman;color:#E598D8;text-align:center;font-size:80%;border-radius:20px 60px;\">TOKENIZATION</p>\n",
        "\n",
        "**Tokenization** is breaking complex data into smaller units called tokens. It can be done by splitting paragraphs into sentences and sentences into words. \n",
        "I am splitting the Clean_Text into words at this step."
      ],
      "metadata": {
        "id": "h86X23twUv9_"
      }
    },
    {
      "cell_type": "code",
      "source": [
        "data[\"Tokenize_Text\"]=data.apply(lambda row: nltk.word_tokenize(row[\"Clean_Text\"]), axis=1)\n",
        "\n",
        "print(\"\\033[1m\\u001b[45;1m The First 5 Texts after Tokenizing:\\033[0m\",*data[\"Tokenize_Text\"][:5], sep = \"\\n\")"
      ],
      "metadata": {
        "execution": {
          "iopub.status.busy": "2021-07-05T06:55:58.995034Z",
          "iopub.execute_input": "2021-07-05T06:55:58.995348Z",
          "iopub.status.idle": "2021-07-05T06:56:00.129537Z",
          "shell.execute_reply.started": "2021-07-05T06:55:58.995318Z",
          "shell.execute_reply": "2021-07-05T06:56:00.128673Z"
        },
        "trusted": true,
        "colab": {
          "base_uri": "https://localhost:8080/"
        },
        "id": "YYNajLrmUv-A",
        "outputId": "c868e777-f5dc-4212-aba1-a51d1c7edf41"
      },
      "execution_count": null,
      "outputs": [
        {
          "output_type": "stream",
          "name": "stdout",
          "text": [
            "\u001b[1m\u001b[45;1m The First 5 Texts after Tokenizing:\u001b[0m\n",
            "['problem', 'service', 'alert', 'evm', 'publicamstage', 'partition', 'var', 'www', 'is', 'warning']\n",
            "['problem', 'service', 'alert', 'evm', 'publicamstage', 'partition', 'var', 'www', 'is', 'warning']\n",
            "['recovery', 'service', 'alert', 'svm', 'total', 'processes', 'is', 'ok']\n",
            "['recovery', 'service', 'alert', 'svm', 'total', 'processes', 'is', 'ok']\n",
            "['problem', 'service', 'alert', 'katonic', 'katonic', 'compute', 'node', 'check', 'ram', 'on', 'server', 'is', 'warning']\n"
          ]
        }
      ]
    },
    {
      "cell_type": "markdown",
      "source": [
        "<a id=\"4.3\"></a>\n",
        "# <p style=\"background-color:#E1F16B;font-family:newtimeroman;color:#E598D8;text-align:center;font-size:80%;border-radius:20px 60px;\">REMOVING STOPWORDS</p>\n",
        "\n",
        "**Stopwords** are frequently occurring words(*such as few, is, an, etc*). These words hold meaning in sentence structure, but do not contribute much to language processing in NLP. For the purpose of removing redundancy in our processing, I am removing those. NLTK library has a set of default stopwords that we will be removing. "
      ],
      "metadata": {
        "id": "JZEjRWcLUv-A"
      }
    },
    {
      "cell_type": "code",
      "source": [
        "# Removing the stopwords function\n",
        "def remove_stopwords(text):\n",
        "    stop_words = set(stopwords.words(\"english\"))\n",
        "    filtered_text = [word for word in text if word not in stop_words]\n",
        "    return filtered_text\n",
        "\n",
        "data[\"Nostopword_Text\"] = data[\"Tokenize_Text\"].apply(remove_stopwords)\n",
        "\n",
        "print(\"\\033[1m\\u001b[45;1m The First 5 Texts after removing the stopwords:\\033[0m\",*data[\"Nostopword_Text\"][:5], sep = \"\\n\")"
      ],
      "metadata": {
        "execution": {
          "iopub.status.busy": "2021-07-05T06:56:00.130886Z",
          "iopub.execute_input": "2021-07-05T06:56:00.131156Z",
          "iopub.status.idle": "2021-07-05T06:56:01.040069Z",
          "shell.execute_reply.started": "2021-07-05T06:56:00.131130Z",
          "shell.execute_reply": "2021-07-05T06:56:01.039099Z"
        },
        "trusted": true,
        "colab": {
          "base_uri": "https://localhost:8080/"
        },
        "id": "beu8tVgdUv-A",
        "outputId": "6b58a636-3d1d-4bc1-f6a6-ee7c100b5673"
      },
      "execution_count": null,
      "outputs": [
        {
          "output_type": "stream",
          "name": "stdout",
          "text": [
            "\u001b[1m\u001b[45;1m The First 5 Texts after removing the stopwords:\u001b[0m\n",
            "['problem', 'service', 'alert', 'evm', 'publicamstage', 'partition', 'var', 'www', 'warning']\n",
            "['problem', 'service', 'alert', 'evm', 'publicamstage', 'partition', 'var', 'www', 'warning']\n",
            "['recovery', 'service', 'alert', 'svm', 'total', 'processes', 'ok']\n",
            "['recovery', 'service', 'alert', 'svm', 'total', 'processes', 'ok']\n",
            "['problem', 'service', 'alert', 'katonic', 'katonic', 'compute', 'node', 'check', 'ram', 'server', 'warning']\n"
          ]
        }
      ]
    },
    {
      "cell_type": "markdown",
      "source": [
        "<a id=\"4.4\"></a>\n",
        "# <p style=\"background-color:#E1F16B;font-family:newtimeroman;color:#E598D8;text-align:center;font-size:80%;border-radius:20px 60px;\">LEMMATIZATION</p>\n",
        "\n",
        "**Stemming** is the process of getting the root form of a word. Stem or root is the part to which inflectional affixes are added. The stem of a word is created by removing the prefix or suffix of a word. It goes back to the etymology of the word. Languages evolve over time. Many different languages branch into each other; for example, English is a derivative of Latin. Thus, stemming a word takes it back to the root word. \n",
        "\n",
        "**lemmatization** also converts a word to its root form. However, the difference is that lemmatization ensures that the root word belongs to the language one is dealing with, in our case it is English. If we use lemmatization the output would be in English. "
      ],
      "metadata": {
        "id": "gzat3lvJUv-A"
      }
    },
    {
      "cell_type": "code",
      "source": [
        "lemmatizer = WordNetLemmatizer()\n",
        "# lemmatize string\n",
        "def lemmatize_word(text):\n",
        "    #word_tokens = word_tokenize(text)\n",
        "    # provide context i.e. part-of-speech\n",
        "    lemmas = [lemmatizer.lemmatize(word, pos ='v') for word in text]\n",
        "    return lemmas\n",
        "\n",
        "data[\"Lemmatized_Text\"] = data[\"Nostopword_Text\"].apply(lemmatize_word)\n",
        "print(\"\\033[1m\\u001b[45;1m The First 5 Texts after lemitization:\\033[0m\",*data[\"Lemmatized_Text\"][:5], sep = \"\\n\")"
      ],
      "metadata": {
        "execution": {
          "iopub.status.busy": "2021-07-05T06:56:01.041574Z",
          "iopub.execute_input": "2021-07-05T06:56:01.041905Z",
          "iopub.status.idle": "2021-07-05T06:56:03.304202Z",
          "shell.execute_reply.started": "2021-07-05T06:56:01.041877Z",
          "shell.execute_reply": "2021-07-05T06:56:03.303159Z"
        },
        "trusted": true,
        "colab": {
          "base_uri": "https://localhost:8080/"
        },
        "id": "hl84wS33Uv-B",
        "outputId": "d1b31b45-0218-4354-f958-aab4a46e86a6"
      },
      "execution_count": null,
      "outputs": [
        {
          "output_type": "stream",
          "name": "stdout",
          "text": [
            "\u001b[1m\u001b[45;1m The First 5 Texts after lemitization:\u001b[0m\n",
            "['problem', 'service', 'alert', 'evm', 'publicamstage', 'partition', 'var', 'www', 'warn']\n",
            "['problem', 'service', 'alert', 'evm', 'publicamstage', 'partition', 'var', 'www', 'warn']\n",
            "['recovery', 'service', 'alert', 'svm', 'total', 'process', 'ok']\n",
            "['recovery', 'service', 'alert', 'svm', 'total', 'process', 'ok']\n",
            "['problem', 'service', 'alert', 'katonic', 'katonic', 'compute', 'node', 'check', 'ram', 'server', 'warn']\n"
          ]
        }
      ]
    },
    {
      "cell_type": "markdown",
      "source": [
        "<a id=\"5\"></a>\n",
        "# <p style=\"background-color:#E598D8;font-family:newtimeroman;font-size:150%;color:#E1F16B;text-align:center;border-radius:20px 60px;\">VECTORIZE</p>\n",
        "\n",
        "**TF-IDF** in NLP stands for Term Frequency – Inverse document frequency. In NLP cleaned data needs to be converted into a numerical format where each word is represented by a matrix. This is also known as word embedding or Word vectorization.\n",
        "\n",
        "Term Frequency (TF) = (Frequency of a term in the document)/(Total number of terms in documents)\n",
        "Inverse Document Frequency(IDF) = log( (total number of documents)/(number of documents with term t))\n",
        "I will be using TfidfVectorizer() to vectorize the preprocessed data. \n",
        "\n",
        "**Steps in the Vectorizing:**\n",
        "* Creating a corpus of lemmatized text\n",
        "* Converting the corpus in vector form\n",
        "* Label Encoding the classes in Target\n",
        " \n",
        "*Note: So far we have been stalking up columns in our data for the purpose of explanation*"
      ],
      "metadata": {
        "id": "_duWXT_2Uv-B"
      }
    },
    {
      "cell_type": "code",
      "source": [
        "#Creating a corpus of text feature to encode further into vectorized form\n",
        "corpus= []\n",
        "for i in data[\"Lemmatized_Text\"]:\n",
        "    msg = ' '.join([row for row in i])\n",
        "    corpus.append(msg)\n",
        "    \n",
        "corpus[:5]\n",
        "print(\"\\033[1m\\u001b[45;1m The First 5 lines in corpus :\\033[0m\",*corpus[:5], sep = \"\\n\")"
      ],
      "metadata": {
        "execution": {
          "iopub.status.busy": "2021-07-05T06:56:03.305402Z",
          "iopub.execute_input": "2021-07-05T06:56:03.305657Z",
          "iopub.status.idle": "2021-07-05T06:56:03.320370Z",
          "shell.execute_reply.started": "2021-07-05T06:56:03.305634Z",
          "shell.execute_reply": "2021-07-05T06:56:03.319549Z"
        },
        "trusted": true,
        "colab": {
          "base_uri": "https://localhost:8080/"
        },
        "id": "siCbJm2WUv-B",
        "outputId": "0d0fde2b-0d85-46f6-f292-3760ba7071cc"
      },
      "execution_count": null,
      "outputs": [
        {
          "output_type": "stream",
          "name": "stdout",
          "text": [
            "\u001b[1m\u001b[45;1m The First 5 lines in corpus :\u001b[0m\n",
            "problem service alert evm publicamstage partition var www warn\n",
            "problem service alert evm publicamstage partition var www warn\n",
            "recovery service alert svm total process ok\n",
            "recovery service alert svm total process ok\n",
            "problem service alert katonic katonic compute node check ram server warn\n"
          ]
        }
      ]
    },
    {
      "cell_type": "code",
      "source": [
        "#Changing text data in to numbers. \n",
        "tfidf = TfidfVectorizer()\n",
        "X = tfidf.fit_transform(corpus).toarray()\n",
        "#Let's have a look at our feature \n",
        "X.dtype"
      ],
      "metadata": {
        "execution": {
          "iopub.status.busy": "2021-07-05T06:56:03.321360Z",
          "iopub.execute_input": "2021-07-05T06:56:03.321733Z",
          "iopub.status.idle": "2021-07-05T06:56:03.774922Z",
          "shell.execute_reply.started": "2021-07-05T06:56:03.321706Z",
          "shell.execute_reply": "2021-07-05T06:56:03.773473Z"
        },
        "trusted": true,
        "colab": {
          "base_uri": "https://localhost:8080/"
        },
        "id": "hN4OU-fXUv-C",
        "outputId": "073dd76f-3145-4a51-b6aa-05687294e811"
      },
      "execution_count": null,
      "outputs": [
        {
          "output_type": "execute_result",
          "data": {
            "text/plain": [
              "dtype('float64')"
            ]
          },
          "metadata": {},
          "execution_count": 17
        }
      ]
    },
    {
      "cell_type": "code",
      "source": [
        "#Label encode the Target and use it as y\n",
        "label_encoder = LabelEncoder()\n",
        "data[\"Target\"] = label_encoder.fit_transform(data[\"Target\"])"
      ],
      "metadata": {
        "execution": {
          "iopub.status.busy": "2021-07-05T06:56:03.776005Z",
          "iopub.execute_input": "2021-07-05T06:56:03.776301Z",
          "iopub.status.idle": "2021-07-05T06:56:03.783838Z",
          "shell.execute_reply.started": "2021-07-05T06:56:03.776272Z",
          "shell.execute_reply": "2021-07-05T06:56:03.782717Z"
        },
        "trusted": true,
        "id": "HnqpsR56Uv-C"
      },
      "execution_count": null,
      "outputs": []
    },
    {
      "cell_type": "markdown",
      "source": [
        "<a id=\"6\"></a>\n",
        "# <p style=\"background-color:#E598D8;font-family:newtimeroman;font-size:150%;color:#E1F16B;text-align:center;border-radius:20px 60px;\">MODEL BUILDING</p>\n",
        "\n",
        "**Steps involved in the Model Building**\n",
        "* Setting up features and target as X and y\n",
        "* Splitting the testing and training sets\n",
        "* Build a pipeline of model for four different classifiers.\n",
        "  1. Naïve Bayes\n",
        "  2. RandomForestClassifier\n",
        "  3. KNeighborsClassifier\n",
        "  4. Support Vector Machines\n",
        "* Fit all the models on training data\n",
        "* Get the cross-validation on the training set for all the models for accuracy"
      ],
      "metadata": {
        "id": "EIENDkYcUv-C"
      }
    },
    {
      "cell_type": "code",
      "source": [
        "#Setting values for labels and feature as y and X(we already did X in vectorizing...)\n",
        "y = data[\"Target\"] \n",
        "# Splitting the testing and training sets\n",
        "X_train, X_test, y_train, y_test = train_test_split(X, y, test_size=0.2, random_state=42)"
      ],
      "metadata": {
        "execution": {
          "iopub.status.busy": "2021-07-05T06:56:03.784872Z",
          "iopub.execute_input": "2021-07-05T06:56:03.785179Z",
          "iopub.status.idle": "2021-07-05T06:56:03.955894Z",
          "shell.execute_reply.started": "2021-07-05T06:56:03.785128Z",
          "shell.execute_reply": "2021-07-05T06:56:03.955086Z"
        },
        "trusted": true,
        "id": "n99SADtsUv-C"
      },
      "execution_count": null,
      "outputs": []
    },
    {
      "cell_type": "code",
      "source": [
        "#Testing on the following classifiers\n",
        "classifiers = [MultinomialNB(), \n",
        "               RandomForestClassifier(),\n",
        "               KNeighborsClassifier(), \n",
        "               SVC()]\n",
        "for cls in classifiers:\n",
        "    cls.fit(X_train, y_train)\n",
        "\n",
        "# Dictionary of pipelines and model types for ease of reference\n",
        "pipe_dict = {0: \"NaiveBayes\", 1: \"RandomForest\", 2: \"KNeighbours\",3: \"SVC\"}"
      ],
      "metadata": {
        "execution": {
          "iopub.status.busy": "2021-07-05T06:56:03.957147Z",
          "iopub.execute_input": "2021-07-05T06:56:03.957430Z",
          "iopub.status.idle": "2021-07-05T06:57:05.191655Z",
          "shell.execute_reply.started": "2021-07-05T06:56:03.957405Z",
          "shell.execute_reply": "2021-07-05T06:57:05.190756Z"
        },
        "trusted": true,
        "id": "skfnBPs7Uv-D"
      },
      "execution_count": null,
      "outputs": []
    },
    {
      "cell_type": "code",
      "source": [
        "# Cossvalidation \n",
        "for i, model in enumerate(classifiers):\n",
        "    cv_score = cross_val_score(model, X_train,y_train,scoring=\"accuracy\", cv=10)\n",
        "    print(\"%s: %f \" % (pipe_dict[i], cv_score.mean()))"
      ],
      "metadata": {
        "execution": {
          "iopub.status.busy": "2021-07-05T06:57:05.193606Z",
          "iopub.execute_input": "2021-07-05T06:57:05.194052Z",
          "iopub.status.idle": "2021-07-05T07:07:05.704340Z",
          "shell.execute_reply.started": "2021-07-05T06:57:05.194021Z",
          "shell.execute_reply": "2021-07-05T07:07:05.702962Z"
        },
        "trusted": true,
        "colab": {
          "base_uri": "https://localhost:8080/"
        },
        "id": "wA6vbepPUv-D",
        "outputId": "424ca5f8-8647-46a4-e86b-50885356a99e"
      },
      "execution_count": null,
      "outputs": [
        {
          "output_type": "stream",
          "name": "stdout",
          "text": [
            "NaiveBayes: 0.915413 \n",
            "RandomForest: 0.919413 \n",
            "KNeighbours: 0.912106 \n",
            "SVC: 0.913430 \n"
          ]
        }
      ]
    },
    {
      "cell_type": "markdown",
      "source": [
        "<a id=\"7\"></a>\n",
        "# <p style=\"background-color:#E598D8;font-family:newtimeroman;font-size:150%;color:#E1F16B;text-align:center;border-radius:20px 60px;\">EVALUATING MODELS</p>\n",
        "**Testing the models on Testset**\n",
        "* Accuracy Report\n",
        "* Confusion Matrix"
      ],
      "metadata": {
        "id": "xt5kqx9eUv-D"
      }
    },
    {
      "cell_type": "code",
      "source": [
        "# Model Evaluation\n",
        "# creating lists of varios scores\n",
        "precision =[]\n",
        "recall =[]\n",
        "f1_score = []\n",
        "trainset_accuracy = []\n",
        "testset_accuracy = []\n",
        "\n",
        "for i in classifiers:\n",
        "    pred_train = i.predict(X_train)\n",
        "    pred_test = i.predict(X_test)\n",
        "    prec = metrics.precision_score(y_test, pred_test)\n",
        "    recal = metrics.recall_score(y_test, pred_test)\n",
        "    f1_s = metrics.f1_score(y_test, pred_test)\n",
        "    train_accuracy = model.score(X_train,y_train)\n",
        "    test_accuracy = model.score(X_test,y_test)\n",
        "  \n",
        "    #Appending scores\n",
        "    precision.append(prec)\n",
        "    recall.append(recal)\n",
        "    f1_score.append(f1_s)\n",
        "    trainset_accuracy.append(train_accuracy)\n",
        "    testset_accuracy.append(test_accuracy)\n"
      ],
      "metadata": {
        "execution": {
          "iopub.status.busy": "2021-07-05T07:07:05.705782Z",
          "iopub.execute_input": "2021-07-05T07:07:05.706174Z",
          "iopub.status.idle": "2021-07-05T07:14:19.340446Z",
          "shell.execute_reply.started": "2021-07-05T07:07:05.706130Z",
          "shell.execute_reply": "2021-07-05T07:14:19.339300Z"
        },
        "trusted": true,
        "id": "3OVaX_9QUv-E"
      },
      "execution_count": null,
      "outputs": []
    },
    {
      "cell_type": "code",
      "source": [
        "# initialise data of lists.\n",
        "data = {'Precision':precision,\n",
        "'Recall':recall,\n",
        "'F1score':f1_score,\n",
        "'Accuracy on Testset':testset_accuracy,\n",
        "'Accuracy on Trainset':trainset_accuracy}\n",
        "# Creates pandas DataFrame.\n",
        "Results = pd.DataFrame(data, index =[\"NaiveBayes\", \"RandomForest\", \"KNeighbours\",\"SVC\"])"
      ],
      "metadata": {
        "execution": {
          "iopub.status.busy": "2021-07-05T07:14:19.342267Z",
          "iopub.execute_input": "2021-07-05T07:14:19.342605Z",
          "iopub.status.idle": "2021-07-05T07:14:19.349452Z",
          "shell.execute_reply.started": "2021-07-05T07:14:19.342548Z",
          "shell.execute_reply": "2021-07-05T07:14:19.348739Z"
        },
        "trusted": true,
        "id": "qwAp6U6hUv-E"
      },
      "execution_count": null,
      "outputs": []
    },
    {
      "cell_type": "code",
      "source": [
        "50cmap2 = ListedColormap([\"#E2CCFF\",\"#E598D8\"])\n",
        "Results.style.background_gradient(cmap=cmap2)"
      ],
      "metadata": {
        "execution": {
          "iopub.status.busy": "2021-07-05T07:14:19.350629Z",
          "iopub.execute_input": "2021-07-05T07:14:19.351103Z",
          "iopub.status.idle": "2021-07-05T07:14:19.422876Z",
          "shell.execute_reply.started": "2021-07-05T07:14:19.351061Z",
          "shell.execute_reply": "2021-07-05T07:14:19.422054Z"
        },
        "trusted": true,
        "colab": {
          "base_uri": "https://localhost:8080/",
          "height": 133
        },
        "id": "KTJkybmvUv-E",
        "outputId": "286a4388-5d18-43ed-abcd-e7447e46e25d"
      },
      "execution_count": null,
      "outputs": [
        {
          "output_type": "error",
          "ename": "SyntaxError",
          "evalue": "ignored",
          "traceback": [
            "\u001b[0;36m  File \u001b[0;32m\"<ipython-input-24-0dc83ecbfd41>\"\u001b[0;36m, line \u001b[0;32m1\u001b[0m\n\u001b[0;31m    50cmap2 = ListedColormap([\"#E2CCFF\",\"#E598D8\"])\u001b[0m\n\u001b[0m          ^\u001b[0m\n\u001b[0;31mSyntaxError\u001b[0m\u001b[0;31m:\u001b[0m invalid syntax\n"
          ]
        }
      ]
    },
    {
      "cell_type": "code",
      "source": [
        "cmap = ListedColormap([\"#B1D7B4\", \"#F7F6DC\"])\n",
        "fig, axes = plt.subplots(nrows=2, ncols=2, figsize=(15,10))\n",
        "\n",
        "for cls, ax in zip(classifiers, axes.flatten()):\n",
        "    plot_confusion_matrix(cls, \n",
        "                          X_test, \n",
        "                          y_test, \n",
        "                          ax=ax, \n",
        "                          cmap= cmap,   \n",
        "                          )\n",
        "    ax.title.set_text(type(cls).__name__)\n",
        "plt.tight_layout()  \n",
        "plt.show()"
      ],
      "metadata": {
        "execution": {
          "iopub.status.busy": "2021-07-05T07:14:19.424105Z",
          "iopub.execute_input": "2021-07-05T07:14:19.424610Z",
          "iopub.status.idle": "2021-07-05T07:14:38.830840Z",
          "shell.execute_reply.started": "2021-07-05T07:14:19.424568Z",
          "shell.execute_reply": "2021-07-05T07:14:38.829640Z"
        },
        "trusted": true,
        "colab": {
          "base_uri": "https://localhost:8080/",
          "height": 892
        },
        "id": "S-kKYjY9Uv-E",
        "outputId": "9a7794c6-82fd-4371-ba30-eb60a3be4218"
      },
      "execution_count": null,
      "outputs": [
        {
          "output_type": "stream",
          "name": "stderr",
          "text": [
            "/usr/local/lib/python3.7/dist-packages/sklearn/utils/deprecation.py:87: FutureWarning: Function plot_confusion_matrix is deprecated; Function `plot_confusion_matrix` is deprecated in 1.0 and will be removed in 1.2. Use one of the class methods: ConfusionMatrixDisplay.from_predictions or ConfusionMatrixDisplay.from_estimator.\n",
            "  warnings.warn(msg, category=FutureWarning)\n",
            "/usr/local/lib/python3.7/dist-packages/sklearn/utils/deprecation.py:87: FutureWarning: Function plot_confusion_matrix is deprecated; Function `plot_confusion_matrix` is deprecated in 1.0 and will be removed in 1.2. Use one of the class methods: ConfusionMatrixDisplay.from_predictions or ConfusionMatrixDisplay.from_estimator.\n",
            "  warnings.warn(msg, category=FutureWarning)\n",
            "/usr/local/lib/python3.7/dist-packages/sklearn/utils/deprecation.py:87: FutureWarning: Function plot_confusion_matrix is deprecated; Function `plot_confusion_matrix` is deprecated in 1.0 and will be removed in 1.2. Use one of the class methods: ConfusionMatrixDisplay.from_predictions or ConfusionMatrixDisplay.from_estimator.\n",
            "  warnings.warn(msg, category=FutureWarning)\n",
            "/usr/local/lib/python3.7/dist-packages/sklearn/utils/deprecation.py:87: FutureWarning: Function plot_confusion_matrix is deprecated; Function `plot_confusion_matrix` is deprecated in 1.0 and will be removed in 1.2. Use one of the class methods: ConfusionMatrixDisplay.from_predictions or ConfusionMatrixDisplay.from_estimator.\n",
            "  warnings.warn(msg, category=FutureWarning)\n"
          ]
        },
        {
          "output_type": "display_data",
          "data": {
            "text/plain": [
              "<Figure size 1080x720 with 8 Axes>"
            ],
            "image/png": "[encoded data removed]"
          },
          "metadata": {
            "needs_background": "light"
          }
        }
      ]
    },
    {
      "cell_type": "markdown",
      "source": [],
      "metadata": {
        "id": "f-aexb7tUv-E"
      }
    }
  ]
}